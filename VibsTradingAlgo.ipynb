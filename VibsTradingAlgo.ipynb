{
 "cells": [
  {
   "cell_type": "markdown",
   "id": "775d17fd-41e7-42ae-8dd1-714c5d852d53",
   "metadata": {},
   "source": [
    "# <u>Trading System Development - Part 04</u>"
   ]
  },
  {
   "cell_type": "markdown",
   "id": "4523dc6f-250d-4cf6-b703-8d90c99616de",
   "metadata": {},
   "source": [
    "### Strategy Rules\n",
    "1. 1Hr Timeframe\n",
    "2. 200 SMA\n",
    "3. 10,3 Super Trend\n",
    "4. Stop-Reverse Strategy\n",
    "5. NIFTY index\n",
    "\n",
    "#### LONG Entry Rules\n",
    "1. 1Hr. Close > 200 SMA\n",
    "2. Long signal on SuperTrend\n",
    "3. (No ST long signals will be considered if close is below 200 SMA)\n",
    "\n",
    "#### SHORT Entry Rules\n",
    "1. 1Hr. Close < 200 SMA\n",
    "2. Short signal on SuperTrend\n",
    "3. (No ST short signals will be considered if close is above 200 SMA)\n",
    "\n"
   ]
  },
  {
   "cell_type": "markdown",
   "id": "090c20ac-8430-4014-baa9-889646bc202d",
   "metadata": {},
   "source": [
    "1. Optimization\n",
    "2. "
   ]
  },
  {
   "cell_type": "markdown",
   "id": "128dc55c-0cee-44f7-9767-f464bb9a56fe",
   "metadata": {},
   "source": [
    "# <u>AGENDA</u>"
   ]
  },
  {
   "cell_type": "markdown",
   "id": "c9dcf928-ceca-40ea-bb1e-8346a091936e",
   "metadata": {},
   "source": [
    "1. Live trade view\n",
    "2. Optimization (problems and potential solutions)\n",
    "3. Live Coding (On Solutions)\n",
    "4. Previous Video Update\n",
    "5. Faster SuperTrend Calculations (Numpy Arrays)\n"
   ]
  },
  {
   "cell_type": "markdown",
   "id": "67ded28e-48c1-4ea7-a98d-e862ee10392b",
   "metadata": {},
   "source": [
    "## <u>Problem Statements</u>"
   ]
  },
  {
   "cell_type": "markdown",
   "id": "38216fb4-a8fb-4529-98e9-039263223818",
   "metadata": {},
   "source": [
    "1. Profit not booking/Big Losses\n",
    "2. Lower number of Trades\n",
    "3. Low Win%\n",
    "4. Long trade duration"
   ]
  },
  {
   "cell_type": "markdown",
   "id": "2c23a5ed-b1bd-49a3-91f4-3ddb32758a6f",
   "metadata": {},
   "source": [
    "## <u>Probable Solutions</u>"
   ]
  },
  {
   "cell_type": "markdown",
   "id": "a93287bc-9aa6-4bf2-8721-66fa85c03f81",
   "metadata": {},
   "source": [
    "1. Reducing TF to increase trade frequency\n",
    "2. Using signals to exit early/Book profits by applying targets - Median analysis\n",
    "3. What if we exited on SuperTrend signal & ignore 200sma for exits  "
   ]
  },
  {
   "cell_type": "code",
   "execution_count": null,
   "id": "92a051a5-71fe-44e7-af3d-d9a63db7f889",
   "metadata": {},
   "outputs": [],
   "source": [
    "#importing Libraries\n",
    "\n",
    "import pandas as pd\n",
    "import numpy as np\n",
    "import datetime\n",
    "import pandas_ta as ta"
   ]
  },
  {
   "cell_type": "markdown",
   "id": "540ac363-f39f-47d0-9f66-4ce60ebadf87",
   "metadata": {},
   "source": [
    "# <u>1. Data Cleaning</u>"
   ]
  },
  {
   "cell_type": "code",
   "execution_count": null,
   "id": "b24ac01b-5b1f-476d-8987-3eaacbb4b86c",
   "metadata": {},
   "outputs": [],
   "source": [
    "#Add FilePath\n",
    "raw_data = pd.read_csv('/Users/abhi_/OneDrive/Documents/GitHub/Entirety-Codes/Trading System Development/nifty50.csv')"
   ]
  },
  {
   "cell_type": "code",
   "execution_count": null,
   "id": "c988a685-8fd6-43b0-99a2-08fb7ad877ff",
   "metadata": {},
   "outputs": [],
   "source": [
    "raw_data['date'] = raw_data['datetime'].apply(lambda x: datetime.datetime.strptime(x, '%Y-%m-%d %H:%M:%S').date())\n",
    "raw_data['time'] = raw_data['datetime'].apply(lambda x: datetime.datetime.strptime(x, '%Y-%m-%d %H:%M:%S').time())\n",
    "raw_data['datetime'] = raw_data['datetime'].apply(lambda x: datetime.datetime.strptime(x, '%Y-%m-%d %H:%M:%S'))"
   ]
  },
  {
   "cell_type": "code",
   "execution_count": null,
   "id": "900ad354-b5cc-4137-a5c3-699d4e3c9c04",
   "metadata": {},
   "outputs": [],
   "source": [
    "nifty_data = raw_data[['datetime','date','time','open','high','low','close']]"
   ]
  },
  {
   "cell_type": "code",
   "execution_count": null,
   "id": "cddbd94e-a070-4272-9c7c-30dfc811938c",
   "metadata": {},
   "outputs": [],
   "source": [
    "nifty_data.set_index('datetime',inplace=True, drop=True)"
   ]
  },
  {
   "cell_type": "markdown",
   "id": "c5c76f7e-b5d9-436c-a32f-df12eee5e1bc",
   "metadata": {},
   "source": [
    "# <u>2. Data Resampling (1 Hr)</u>"
   ]
  },
  {
   "cell_type": "code",
   "execution_count": null,
   "id": "8e3bdd8e-7274-4e75-b5cb-19bba6bc2c12",
   "metadata": {},
   "outputs": [],
   "source": [
    "def subDatetime(x):\n",
    "    #Diwali Muraat Trading Hours(2015+11-11, 2016-10-30, 2017-10-9, 2018-11-7)(-30mins)\n",
    "    if (x.date() in [\n",
    "        datetime.date(2015,11,11),datetime.date(2016,10,30),datetime.date(2017,10,19),datetime.date(2018,11,7)\n",
    "    ]):\n",
    "        return x - datetime.timedelta(minutes=30)\n",
    "\n",
    "    #2021 Feb NSE Down (Stopped at 10:09 started back at 15:45)(-45mins)\n",
    "    elif (\n",
    "        (x.date() == datetime.date(2021,2,24))\n",
    "        and\n",
    "        (x.time() > datetime.time(15,30)\n",
    "        )):\n",
    "        return x - datetime.timedelta(minutes=45)\n",
    "\n",
    "    #All other times(-15mins)\n",
    "    else:\n",
    "        return x - datetime.timedelta(minutes=15)\n",
    "        \n",
    "def addDatetime(x):\n",
    "    #Diwali Muraat Trading Hours(2015-11-11, 2016-10-30, 2017-10-9, 2018-11-7)(-30mins)\n",
    "    if (x.date() in [\n",
    "        datetime.date(2015,11,11),datetime.date(2016,10,30),datetime.date(2017,10,19),datetime.date(2018,11,7)\n",
    "    ]):\n",
    "        return x + datetime.timedelta(minutes=30)\n",
    "\n",
    "    #2021 Feb NSE Down (Stopped at 10:09 started back at 15:45)(-45mins)\n",
    "    elif (\n",
    "        (x.date() == datetime.date(2021,2,24))\n",
    "        and\n",
    "        (x.time() > datetime.time(15,30)\n",
    "        )):\n",
    "        return x + datetime.timedelta(minutes=45)\n",
    "\n",
    "    #All other times(+15mins)\n",
    "    else:\n",
    "        return x + datetime.timedelta(minutes=15)\n"
   ]
  },
  {
   "cell_type": "code",
   "execution_count": null,
   "id": "3724e2ec-5495-426b-8789-97e615ddc1d3",
   "metadata": {},
   "outputs": [],
   "source": [
    "nifty_data.reset_index(inplace=True)\n",
    "nifty_data['datetime'] = nifty_data['datetime'].apply(subDatetime)\n",
    "nifty_data.set_index('datetime',drop=True,inplace=True)"
   ]
  },
  {
   "cell_type": "code",
   "execution_count": null,
   "id": "7adb9a9e-76a2-499a-af52-31d56cd72417",
   "metadata": {},
   "outputs": [],
   "source": [
    "nifty_data = nifty_data.resample('15T').agg({\n",
    "    'date':'first',\n",
    "    'time':'first',\n",
    "    'open':'first',\n",
    "    'high':'max',\n",
    "    'low':'min',\n",
    "    'close':'last'\n",
    "})"
   ]
  },
  {
   "cell_type": "code",
   "execution_count": null,
   "id": "99922a1c-03c5-4b98-82cf-c5cf217f81ba",
   "metadata": {},
   "outputs": [],
   "source": [
    "nifty_data.reset_index(inplace=True)\n",
    "nifty_data['datetime'] = nifty_data['datetime'].apply(addDatetime)"
   ]
  },
  {
   "cell_type": "code",
   "execution_count": null,
   "id": "24450adc-94ef-41b7-9256-f0bfefb79d74",
   "metadata": {},
   "outputs": [],
   "source": [
    "nifty_data.dropna(inplace=True)\n",
    "nifty_data.reset_index(inplace=True, drop=True)"
   ]
  },
  {
   "cell_type": "code",
   "execution_count": null,
   "id": "6c5d7e44-8a22-4b20-8217-61647dbdb2e5",
   "metadata": {},
   "outputs": [],
   "source": [
    "nifty_data"
   ]
  },
  {
   "cell_type": "markdown",
   "id": "b6e18956-29cb-4dc4-89b3-dc3e7943964c",
   "metadata": {},
   "source": [
    "# <u>3. Computing Indicators (200SMA & SuperTrend)</u>"
   ]
  },
  {
   "cell_type": "markdown",
   "id": "54bf1cc8-4a22-4f77-ac5c-50230c63a951",
   "metadata": {},
   "source": [
    "#### 1. <u>Calculate Average True Range (ATR)</u>\n",
    "\n",
    "        The Average True Range (ATR) is a measure of market volatility. \n",
    "        \n",
    "        The true range for each period is the greatest of the following:\n",
    "        1. The difference between the current high and the current low.\n",
    "        2. The difference between the current high and the previous close.\n",
    "        3. The difference between the current low and the previous close.\n",
    "\n",
    "\n",
    "\n",
    "#### 2. <u>Calculate Basic Upper and Lower Bands</u>\n",
    "\n",
    "        The basic upper and lower bands are calculated using the ATR and a multiplier (commonly set to 3).\n",
    "\n",
    "        Basic Upper Band = ( (High + Low) / 2 ) + (Multiplier * ATR)\n",
    "        Basic Lower Band = ( (High + Low) / 2 ) - (Multiplier * ATR)\n",
    "\n",
    "\n",
    "\n",
    "#### 3. <u>Define Final Upper and Lower Bands</u>\n",
    "\n",
    "        The final upper and lower bands are determined based on the previous period's bands and the Previous close.\n",
    "\n",
    "        If the previous close is greater than the previous final upper band, then the current final upper band is the current basic upper band. \n",
    "        ELSE min(CurrentBasicUpperBand, PrevFinalUpperBand)\n",
    "        \n",
    "        \n",
    "        If the previous close is less than the previous final lower band, then the current final lower band is the current basic lower band.\n",
    "        ELSE max(CurrentBasicLowerBand, PrevFinalLowerBand)\n",
    "        \n",
    "\n",
    "\n",
    "\n",
    "#### 4. <u>Calculate SuperTrend</u>\n",
    "\n",
    "####    (A) Check for First SuperTrend Value, based on first Crossover\n",
    "        -If Previous close is less than previous final upper band, and current close is greater than current final upper band, So, current SuperTrend = Current FinalLowerBand\n",
    "         BREAK to get first ST value\n",
    "        -If Previous close is greater than previous final lower band, and current close is less than current final lower band, So, current SuperTrend = Current FinalUpperBand\n",
    "         BREAK to get first ST value\n",
    "               \n",
    "####    (B) Check for subsequent SuperTrend Values        \n",
    "\n",
    "        -If the previous period's SuperTrend is equal to the previous period's final upper band, and the current close is less than the current final upper band, then the current period's SuperTrend is the current final Upper band.\n",
    "        -If the previous period's SuperTrend is equal to the previous period's final upper band, and the current close is greater than the current final upper band, then the current period's SuperTrend is the current final Lower band.\n",
    "\n",
    "        -If the previous period's SuperTrend is equal to the previous period's final Lower band, and the current close is greater than the current final Lower band, then the current period's SuperTrend is the current final Lower band.\n",
    "        -If the previous period's SuperTrend is equal to the previous period's final Lower band, and the current close is less than the current final lower band, then the current period's SuperTrend is the current final Upper band."
   ]
  },
  {
   "cell_type": "code",
   "execution_count": null,
   "id": "cbf68fdf-150b-41a2-84cb-cafcbe3868a1",
   "metadata": {},
   "outputs": [],
   "source": [
    "#Not used in this Backtest\n",
    "#200 SMA\n",
    "nifty_data['200sma'] = nifty_data['close'].rolling(window=200).mean()"
   ]
  },
  {
   "cell_type": "code",
   "execution_count": null,
   "id": "e1cdfee6-1974-4776-a101-05abf5badd5c",
   "metadata": {},
   "outputs": [],
   "source": [
    "def atr(data, period):\n",
    "    df = data.copy()\n",
    "    df['H-L'] = df['high'] - df['low']\n",
    "    df['H-PC'] = abs(df['high'] - df['close'].shift(1))\n",
    "    df['L-PC'] = abs(df['low'] - df['close'].shift(1))\n",
    "    df['true_range'] = df[['H-L','H-PC','L-PC']].max(axis=1)\n",
    "    #df['atr'] = df['true_range'].rolling(window=period).mean()\n",
    "    df['atr'] = df['true_range'].ewm(com=period, min_periods=period).mean()\n",
    "    return df['atr']\n",
    "\n",
    "def superTrend(data, period, multiplier):\n",
    "    df = data.copy()\n",
    "    \n",
    "    #STEP 1\n",
    "    df['atr'] = atr(df, period)\n",
    "\n",
    "    #STEP 2\n",
    "    df['B-UB'] = ((df.high + df.low)/2) + (multiplier * df.atr)\n",
    "    df['B-LB'] = ((df.high + df.low)/2) - (multiplier * df.atr)\n",
    "\n",
    "    #STEP 3\n",
    "    df['F-UB'] = df['B-UB']\n",
    "    df['F-LB'] = df['B-LB']\n",
    "\n",
    "    for i in range(period,len(df)):\n",
    "        if df.iloc[i-1]['close'] > df.iloc[i-1]['F-UB']:\n",
    "            df.loc[i, 'F-UB'] = df.iloc[i]['B-UB']\n",
    "        else:\n",
    "            df.loc[i, 'F-UB'] = min(df.iloc[i]['B-UB'], df.iloc[i-1]['F-UB'])\n",
    "\n",
    "    for i in range(period,len(df)):\n",
    "        if df.iloc[i-1]['close'] < df.iloc[i-1]['F-LB']:\n",
    "            df.loc[i, 'F-LB'] = df.iloc[i]['B-LB']\n",
    "        else:\n",
    "            df.loc[i, 'F-LB'] = max(df.iloc[i]['B-LB'], df.iloc[i-1]['F-LB'])\n",
    "\n",
    "    #STEP 4\n",
    "    df['supertrend'] = np.nan\n",
    "\n",
    "    for y in range(period, len(df)):\n",
    "        if (df.iloc[y-1]['close'] <= df.iloc[y-1]['F-UB']) & (df.iloc[y]['close'] > df.iloc[y]['F-UB']):\n",
    "            df.loc[y, 'supertrend'] = df.iloc[y]['F-LB']\n",
    "            break\n",
    "        if (df.iloc[y-1]['close'] >= df.iloc[y-1]['F-LB']) & (df.iloc[y]['close'] < df.iloc[y]['F-LB']):\n",
    "            df.loc[y, 'supertrend'] = df.iloc[y]['F-UB']\n",
    "            break\n",
    "\n",
    "    for i in range(y+1, len(df)):\n",
    "        if (df.iloc[i-1]['supertrend'] == df.iloc[i-1]['F-UB']) & (df.iloc[i]['close'] <= df.iloc[i]['F-UB']):\n",
    "            df.loc[i, 'supertrend'] = df.iloc[i]['F-UB']\n",
    "        elif (df.iloc[i-1]['supertrend'] == df.iloc[i-1]['F-UB']) & (df.iloc[i]['close'] >= df.iloc[i]['F-UB']):\n",
    "            df.loc[i, 'supertrend'] = df.iloc[i]['F-LB']\n",
    "        elif (df.iloc[i-1]['supertrend'] == df.iloc[i-1]['F-LB']) & (df.iloc[i]['close'] >= df.iloc[i]['F-LB']):\n",
    "            df.loc[i, 'supertrend'] = df.iloc[i]['F-LB']\n",
    "        elif (df.iloc[i-1]['supertrend'] == df.iloc[i-1]['F-LB']) & (df.iloc[i]['close'] <= df.iloc[i]['F-LB']):\n",
    "            df.loc[i, 'supertrend'] = df.iloc[i]['F-UB']\n",
    "\n",
    "    return df['supertrend']"
   ]
  },
  {
   "cell_type": "code",
   "execution_count": null,
   "id": "78559cfa-aca7-4165-9cfa-d91398698e02",
   "metadata": {},
   "outputs": [],
   "source": [
    "%%time\n",
    "nifty_data['supertrend'] = superTrend(nifty_data, 10, 3)\n",
    "nifty_data['200sma'] = nifty_data['200sma'].shift(1)\n",
    "nifty_data['supertrend'] = nifty_data['supertrend'].shift(1)"
   ]
  },
  {
   "cell_type": "code",
   "execution_count": null,
   "id": "ed8314a1-5667-4591-b460-d6f04ebe8e9e",
   "metadata": {},
   "outputs": [],
   "source": [
    "nifty_data.dropna(inplace=True)\n",
    "nifty_data.reset_index(drop=True, inplace=True)"
   ]
  },
  {
   "cell_type": "markdown",
   "id": "f44aa4a3-b94a-49ca-927b-def99dca0ef2",
   "metadata": {},
   "source": [
    "# <u>3(B). Faster SuperTrend Computation</u>"
   ]
  },
  {
   "cell_type": "code",
   "execution_count": null,
   "id": "8bda3de5-311c-4014-82f4-db80a5e67dd9",
   "metadata": {},
   "outputs": [],
   "source": [
    "#Not used in this Backtest\n",
    "#200 SMA\n",
    "nifty_data['200sma'] = nifty_data['close'].rolling(window=200).mean()"
   ]
  },
  {
   "cell_type": "code",
   "execution_count": null,
   "id": "14695665-b464-4255-bfc9-94e03a9cca30",
   "metadata": {},
   "outputs": [],
   "source": [
    "#ATR optimised for np.array\n",
    "#Notice we are not passing any DataFrame - high/low/close will be initialised in the main function\n",
    "def atr_np(high, low, close, period):\n",
    "    h_l = high - low\n",
    "    h_pc = np.maximum(high - np.roll(close, 1), 0)  # Replaces shift\n",
    "    l_pc = np.maximum(low - np.roll(close, 1), 0)\n",
    "\n",
    "    true_range = np.maximum(h_l, h_pc, l_pc)\n",
    "    atr = pd.Series(true_range).ewm(com=period, min_periods=period).mean().to_numpy()\n",
    "    return atr"
   ]
  },
  {
   "cell_type": "code",
   "execution_count": null,
   "id": "7be6a9ac-d1ca-46b0-a1df-7ed2f83aea2b",
   "metadata": {},
   "outputs": [],
   "source": [
    "#To Optimize this more - instead of looping over len(data) We can create a np.array of index of data and loop over that\n",
    "\n",
    "def superTrend_np(data, period, multiplier):\n",
    "    high, low, close = data['high'].to_numpy(), data['low'].to_numpy(), data['close'].to_numpy()\n",
    "\n",
    "    # Step 1: Calculate ATR\n",
    "    atr = atr_np(high, low, close, period)\n",
    "    data['atr'] = atr_np(high, low, close, period)\n",
    "\n",
    "    # Step 2: Calculate Basic Upper and Lower Bands\n",
    "    b_ub = ((high + low) / 2) + (multiplier * atr)\n",
    "    b_lb = ((high + low) / 2) - (multiplier * atr)\n",
    "\n",
    "    # Step 3: Initialize Final Upper and Lower Bands\n",
    "    f_ub, f_lb = b_ub.copy(), b_lb.copy()\n",
    "\n",
    "    # Loop for F-UB and F-LB\n",
    "    for i in range(period, len(data)):\n",
    "        f_ub[i] = b_ub[i] if close[i-1] > f_ub[i-1] else min(b_ub[i], f_ub[i-1])\n",
    "        f_lb[i] = b_lb[i] if close[i-1] < f_lb[i-1] else max(b_lb[i], f_lb[i-1])\n",
    "\n",
    "    # Step 4: Supertrend Calculation\n",
    "    supertrend = np.full_like(close, np.nan)\n",
    "\n",
    "    # Initial crossover\n",
    "    for y in range(period, len(data)):\n",
    "        if (close[y-1] <= f_ub[y-1]) and (close[y] > f_ub[y]):\n",
    "            supertrend[y] = f_lb[y]\n",
    "            break\n",
    "        elif (close[y-1] >= f_lb[y-1]) and (close[y] < f_lb[y]):\n",
    "            supertrend[y] = f_ub[y]\n",
    "            break\n",
    "\n",
    "    # Remaining Supertrend values\n",
    "    for i in range(y+1, len(data)):\n",
    "        if (supertrend[i-1] == f_ub[i-1]) and (close[i] <= f_ub[i]):\n",
    "            supertrend[i] = f_ub[i]\n",
    "        elif (supertrend[i-1] == f_ub[i-1]) and (close[i] > f_ub[i]):\n",
    "            supertrend[i] = f_lb[i]\n",
    "        elif (supertrend[i-1] == f_lb[i-1]) and (close[i] >= f_lb[i]):\n",
    "            supertrend[i] = f_lb[i]\n",
    "        elif (supertrend[i-1] == f_lb[i-1]) and (close[i] < f_lb[i]):\n",
    "            supertrend[i] = f_ub[i]\n",
    "\n",
    "    return supertrend\n"
   ]
  },
  {
   "cell_type": "code",
   "execution_count": null,
   "id": "91edc6e4-f634-43a1-a182-10236dd05423",
   "metadata": {},
   "outputs": [],
   "source": [
    "%%time\n",
    "nifty_data['supertrend'] = superTrend_np(nifty_data, 10, 3)"
   ]
  },
  {
   "cell_type": "code",
   "execution_count": null,
   "id": "f35736eb-bde1-4834-82b3-3db78a445a68",
   "metadata": {},
   "outputs": [],
   "source": [
    "nifty_data.dropna(inplace=True)\n",
    "nifty_data.reset_index(drop=True, inplace=True)"
   ]
  },
  {
   "cell_type": "code",
   "execution_count": null,
   "id": "eab99446-6ff0-4fdc-a459-a05efaf8cfd0",
   "metadata": {},
   "outputs": [],
   "source": [
    "#nifty_data['200sma'] = nifty_data['200sma'].shift(1)\n",
    "nifty_data['supertrend'] = nifty_data['supertrend'].shift(1)"
   ]
  },
  {
   "cell_type": "code",
   "execution_count": null,
   "id": "1959cd74-9c56-47dd-bdcd-89c6a8dc6fd3",
   "metadata": {},
   "outputs": [],
   "source": [
    "nifty_data"
   ]
  },
  {
   "cell_type": "markdown",
   "id": "44dfac80-532b-42d4-97d8-414e59f4ba13",
   "metadata": {},
   "source": [
    "# <u>4. Generating Buy/Sell Signals</u>"
   ]
  },
  {
   "cell_type": "code",
   "execution_count": null,
   "id": "7f2bcd0b-df78-4a80-8462-89ae4965beb8",
   "metadata": {},
   "outputs": [],
   "source": [
    "nifty_data['buy_signals'] = 0\n",
    "nifty_data['sell_signals'] = 0\n",
    "\n",
    "nifty_data['buy_signals'] = np.where((nifty_data.close.shift(1) < nifty_data.supertrend.shift(1)) \n",
    "                                     & \n",
    "                                     (nifty_data.close > nifty_data.supertrend),\n",
    "                                     1, \n",
    "                                     0)\n",
    "\n",
    "nifty_data['sell_signals'] = np.where((nifty_data.close.shift(1) > nifty_data.supertrend.shift(1)) \n",
    "                                     & \n",
    "                                     (nifty_data.close < nifty_data.supertrend),\n",
    "                                     -1, \n",
    "                                     0)"
   ]
  },
  {
   "cell_type": "markdown",
   "id": "678c9be3-0150-4673-9d1f-25adf02d097f",
   "metadata": {},
   "source": [
    "# <u>5. Backtesting and computing TradeLog</u>"
   ]
  },
  {
   "cell_type": "code",
   "execution_count": null,
   "id": "423b5354-7eab-47d6-95da-b56c0879a8e8",
   "metadata": {},
   "outputs": [],
   "source": [
    "nifty_data"
   ]
  },
  {
   "cell_type": "code",
   "execution_count": null,
   "id": "5c21e7e3-2183-4a7d-808e-01bd843bbb1e",
   "metadata": {},
   "outputs": [],
   "source": [
    "in_trade = False\n",
    "trade_log = []"
   ]
  },
  {
   "cell_type": "code",
   "execution_count": null,
   "id": "dd7be22a-1870-44fb-bc53-0e4e81a900d7",
   "metadata": {},
   "outputs": [],
   "source": [
    "for idx, row in nifty_data.iterrows():\n",
    "\n",
    "    if not in_trade:\n",
    "        if row.buy_signals == 1:\n",
    "            in_trade = True\n",
    "            trade_direction = 'LONG'\n",
    "            entry_price = row.close\n",
    "            entry_date = row.date\n",
    "            entry_time = row.time\n",
    "        elif row.sell_signals == -1:\n",
    "            in_trade = True\n",
    "            trade_direction = 'SHORT'\n",
    "            entry_price = row.close\n",
    "            entry_date = row.date\n",
    "            entry_time = row.time\n",
    "\n",
    "    elif in_trade:\n",
    "        if trade_direction == 'LONG':\n",
    "            if (nifty_data.iloc[idx-1].close > nifty_data.iloc[idx-1].supertrend) & (row.close < row.supertrend):\n",
    "                exit_price = row.close\n",
    "                exit_time = row.time\n",
    "                exit_date = row.date\n",
    "                trade_log.append({\n",
    "                    'entry_date':entry_date,\n",
    "                    'entry_time':entry_time,\n",
    "                    'trade_direction':trade_direction,\n",
    "                    'entry_price':entry_price,\n",
    "                    'exit_date':exit_date,\n",
    "                    'exit_time':exit_time,\n",
    "                    'exit_price':exit_price,\n",
    "                    'pnl':exit_price - entry_price\n",
    "                })\n",
    "\n",
    "                in_trade = False\n",
    "                \n",
    "                \n",
    "        elif trade_direction == 'SHORT':\n",
    "            if (nifty_data.iloc[idx-1].close < nifty_data.iloc[idx-1].supertrend) & (row.close > row.supertrend):\n",
    "                exit_price = row.close\n",
    "                exit_time = row.time\n",
    "                exit_date = row.date\n",
    "                trade_log.append({\n",
    "                    'entry_date':entry_date,\n",
    "                    'entry_time':entry_time,\n",
    "                    'trade_direction':trade_direction,\n",
    "                    'entry_price':entry_price,\n",
    "                    'exit_date':exit_date,\n",
    "                    'exit_time':exit_time,\n",
    "                    'exit_price':exit_price,\n",
    "                    'pnl':entry_price - exit_price\n",
    "                })\n",
    "    \n",
    "                in_trade = False\n",
    "    "
   ]
  },
  {
   "cell_type": "code",
   "execution_count": null,
   "id": "4bb8d8fc-f54c-40ca-932e-b07f3a9d6d67",
   "metadata": {},
   "outputs": [],
   "source": [
    "len(trade_log)"
   ]
  },
  {
   "cell_type": "code",
   "execution_count": null,
   "id": "0070e8de-db9b-4fc4-9a58-01cc2d050aa8",
   "metadata": {},
   "outputs": [],
   "source": [
    "trade_log_df = pd.DataFrame(trade_log)"
   ]
  },
  {
   "cell_type": "code",
   "execution_count": null,
   "id": "3ddf2367-d460-41ce-bd13-25f6fb553085",
   "metadata": {},
   "outputs": [],
   "source": [
    "trade_log_df.pnl.cumsum()"
   ]
  },
  {
   "cell_type": "code",
   "execution_count": null,
   "id": "2d1008e5-e98d-4b46-a2a0-30994bb8b5ca",
   "metadata": {},
   "outputs": [],
   "source": [
    "trade_log_df.pnl.cumsum().plot()"
   ]
  },
  {
   "cell_type": "markdown",
   "id": "3c3328c7-f168-4eff-8c99-d0aa2dbefd0c",
   "metadata": {},
   "source": [
    "# <u>6. Computing Metrics</u>"
   ]
  },
  {
   "cell_type": "code",
   "execution_count": null,
   "id": "ecbcd121-2aa9-4f1d-8f90-afe85c5bf4d2",
   "metadata": {},
   "outputs": [],
   "source": [
    "pnl = trade_log_df['pnl']"
   ]
  },
  {
   "cell_type": "code",
   "execution_count": null,
   "id": "87a32c8b-4364-4ecd-8b0e-03d3d1d96823",
   "metadata": {},
   "outputs": [],
   "source": [
    "pnl.cumsum()"
   ]
  },
  {
   "cell_type": "code",
   "execution_count": null,
   "id": "dc1c71a3-bc96-4d29-8324-10a083fe291f",
   "metadata": {},
   "outputs": [],
   "source": [
    "#Metrics\n",
    "print(f'Total PnL(Points):    {round(sum(pnl),2)}')\n",
    "print(f'Max Drawdown(Points): {round(min(pnl.cumsum() - pnl.cumsum().cummax()),2)}')\n",
    "print(f'Win %:                {round(len(pnl[pnl > 0])/len(pnl)*100,2)}%')\n",
    "print(f'Loss %:               {round(len(pnl[pnl < 0])/len(pnl)*100,2)}%')\n",
    "print(f'Total Win Points:     {round(sum(pnl[pnl > 0]),2)}')\n",
    "print(f'Total Loss Points:    {round(sum(pnl[pnl < 0]),2)}')\n",
    "print(f'Calmar Ratio:         {-1*round(pnl.cumsum().iloc[-1]/min(pnl.cumsum() - pnl.cumsum().cummax()),2)}')"
   ]
  },
  {
   "cell_type": "code",
   "execution_count": null,
   "id": "963faae8-fdc3-4680-bc95-f61466959123",
   "metadata": {},
   "outputs": [],
   "source": []
  }
 ],
 "metadata": {
  "kernelspec": {
   "display_name": "Python 3",
   "language": "python",
   "name": "python3"
  },
  "language_info": {
   "codemirror_mode": {
    "name": "ipython",
    "version": 3
   },
   "file_extension": ".py",
   "mimetype": "text/x-python",
   "name": "python",
   "nbconvert_exporter": "python",
   "pygments_lexer": "ipython3",
   "version": "3.10.11"
  }
 },
 "nbformat": 4,
 "nbformat_minor": 5
}
